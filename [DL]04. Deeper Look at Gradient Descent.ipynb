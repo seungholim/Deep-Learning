{
 "cells": [
  {
   "cell_type": "markdown",
   "metadata": {},
   "source": [
    "# Deeper Look at Gradient Descent\n",
    "\n",
    "- Hypothesis function 복습\n",
    "- 사용할 모의 data 확인\n",
    "- Cost function 이해\n",
    "- Gradient descent 이론\n",
    "- Gradient descent 구현\n",
    "- Gradient descent 구현 (nn.optim)"
   ]
  },
  {
   "cell_type": "code",
   "execution_count": 11,
   "metadata": {},
   "outputs": [],
   "source": [
    "import torch\n",
    "\n",
    "W = torch.zeros(1, requires_grad = True)\n",
    "b = torch.zeros(1, requires_grad = True)"
   ]
  },
  {
   "cell_type": "code",
   "execution_count": 12,
   "metadata": {},
   "outputs": [],
   "source": [
    "# 3쌍의 값을 갖는 dataset 정의\n",
    "x_train = torch.FloatTensor([[1],[2],[3]])\n",
    "y_train = torch.FloatTensor([[2],[4],[6]])"
   ]
  },
  {
   "cell_type": "code",
   "execution_count": 13,
   "metadata": {},
   "outputs": [],
   "source": [
    "hypothesis = x_train * W + b"
   ]
  },
  {
   "cell_type": "markdown",
   "metadata": {},
   "source": [
    "## Cost function : MSE (Mean Squard Error)"
   ]
  },
  {
   "cell_type": "code",
   "execution_count": 14,
   "metadata": {},
   "outputs": [],
   "source": [
    "cost = torch.mean((hypothesis - y_train) ** 2)"
   ]
  },
  {
   "cell_type": "code",
   "execution_count": 15,
   "metadata": {},
   "outputs": [
    {
     "data": {
      "text/plain": [
       "tensor(18.6667, grad_fn=<MeanBackward0>)"
      ]
     },
     "execution_count": 15,
     "metadata": {},
     "output_type": "execute_result"
    }
   ],
   "source": [
    "cost"
   ]
  },
  {
   "cell_type": "markdown",
   "metadata": {},
   "source": [
    "### Gradient Descent\n",
    "\n",
    "costfunction을 최소화 하기\n",
    "- 곡선을 내려가자\n",
    "- 기울기가 음수일떈 W가 더 커져야 하고\n",
    "- 기울기가 양수일땐 W가 더 작아져야 한다.\n",
    "- 기울기 경사가 클수록 W값을 크게 해주고\n",
    "- 기울기 경사가 평평할 수록 W값을 작게 해준다.\n",
    "- 그럼 이러한 gradient를 이용해 cost를 줄이려면 어떻게 해야할까?"
   ]
  },
  {
   "cell_type": "markdown",
   "metadata": {},
   "source": [
    "- W: = W - a(W변화량)"
   ]
  },
  {
   "cell_type": "code",
   "execution_count": 16,
   "metadata": {},
   "outputs": [],
   "source": [
    "gradient = 2 * torch.mean((W * x_train - y_train) * x_train)"
   ]
  },
  {
   "cell_type": "code",
   "execution_count": 20,
   "metadata": {},
   "outputs": [],
   "source": [
    "lr = 0.1\n",
    "W = W - (lr * gradient)"
   ]
  },
  {
   "cell_type": "code",
   "execution_count": 22,
   "metadata": {},
   "outputs": [
    {
     "data": {
      "text/plain": [
       "tensor([1.8667], grad_fn=<SubBackward0>)"
      ]
     },
     "execution_count": 22,
     "metadata": {},
     "output_type": "execute_result"
    }
   ],
   "source": [
    "W"
   ]
  },
  {
   "cell_type": "markdown",
   "metadata": {},
   "source": [
    "# Full Code"
   ]
  },
  {
   "cell_type": "code",
   "execution_count": 24,
   "metadata": {},
   "outputs": [
    {
     "name": "stdout",
     "output_type": "stream",
     "text": [
      "Epoch    0/10 W: 0.000, b: 0.000000 Cost : 18.666666\n",
      "Epoch    1/10 W: 2.800, b: 0.000000 Cost : 2.986666\n",
      "Epoch    2/10 W: 1.680, b: 0.000000 Cost : 0.477867\n",
      "Epoch    3/10 W: 2.128, b: 0.000000 Cost : 0.076459\n",
      "Epoch    4/10 W: 1.949, b: 0.000000 Cost : 0.012233\n",
      "Epoch    5/10 W: 2.020, b: 0.000000 Cost : 0.001957\n",
      "Epoch    6/10 W: 1.992, b: 0.000000 Cost : 0.000313\n",
      "Epoch    7/10 W: 2.003, b: 0.000000 Cost : 0.000050\n",
      "Epoch    8/10 W: 1.999, b: 0.000000 Cost : 0.000008\n",
      "Epoch    9/10 W: 2.001, b: 0.000000 Cost : 0.000001\n",
      "Epoch   10/10 W: 2.000, b: 0.000000 Cost : 0.000000\n"
     ]
    }
   ],
   "source": [
    "# 데이터\n",
    "import torch\n",
    "\n",
    "W = torch.zeros(1, requires_grad = True)\n",
    "b = torch.zeros(1, requires_grad = True)\n",
    "\n",
    "x_train = torch.FloatTensor([[1],[2],[3]])\n",
    "y_train = torch.FloatTensor([[2],[4],[6]])\n",
    "\n",
    "lr = 0.1\n",
    "\n",
    "nb_epochs = 10\n",
    "for epoch in range(nb_epochs + 1) :\n",
    "    \n",
    "    # H(x) 계산\n",
    "    hypothesis = W * x_train + b\n",
    "    \n",
    "    # cost gradient 계산\n",
    "    cost = torch.mean((hypothesis - y_train) ** 2)\n",
    "    gradient = torch.sum((W * x_train - y_train) * x_train)\n",
    "    \n",
    "    print('Epoch {:4d}/{} W: {:.3f}, b: {:4f} Cost : {:.6f}'. format(epoch, nb_epochs, W.item(), b.item(), cost.item()))\n",
    "    \n",
    "    \n",
    "    # cost gradient 로 개선\n",
    "    W = W - (lr * gradient)"
   ]
  },
  {
   "cell_type": "markdown",
   "metadata": {},
   "source": [
    "- Epoch : 데이터로 학습한 횟수\n",
    "- 학습하면서\n",
    "    - 1에 수렴하는 W\n",
    "    - 줄어드는 cost"
   ]
  },
  {
   "cell_type": "markdown",
   "metadata": {},
   "source": [
    "# Gradient Descent with torch.optim\n",
    "\n",
    "- torch.optim 으로도 gradient descent 를 할 수 있습니다.\n",
    "    - 시작할 때 Optimizer 정의\n",
    "    - optimizer.zero_grad() 로 gradient 0으로 초기화\n",
    "    - cost.backward()로 gradient 계산\n",
    "    - optimizer.step() 으로 gradient descent"
   ]
  },
  {
   "cell_type": "markdown",
   "metadata": {},
   "source": [
    "# Full Code with torch.optim"
   ]
  },
  {
   "cell_type": "code",
   "execution_count": 52,
   "metadata": {},
   "outputs": [
    {
     "name": "stdout",
     "output_type": "stream",
     "text": [
      "Epoch    0/10   Cost : 42.000000\n",
      "Epoch    1/10   Cost : 11.946666\n",
      "Epoch    2/10   Cost : 3.398162\n",
      "Epoch    3/10   Cost : 0.966588\n",
      "Epoch    4/10   Cost : 0.274941\n",
      "Epoch    5/10   Cost : 0.078205\n",
      "Epoch    6/10   Cost : 0.022245\n",
      "Epoch    7/10   Cost : 0.006327\n",
      "Epoch    8/10   Cost : 0.001800\n",
      "Epoch    9/10   Cost : 0.000512\n",
      "Epoch   10/10   Cost : 0.000146\n"
     ]
    }
   ],
   "source": [
    "import torch\n",
    "\n",
    "# 데이터\n",
    "x_train = torch.FloatTensor([[1],[2],[3]])\n",
    "y_train = torch.FloatTensor([[3],[6],[9]])\n",
    "\n",
    "# 모델 초기화\n",
    "W = torch.zeros(3, requires_grad = True)\n",
    "optimizer = torch.optim.SGD([W], lr = 0.15)\n",
    "\n",
    "epochs = 10\n",
    "for epoch in range(epochs +1) :\n",
    "     # H(x) 계산\n",
    "    hypothesis = W * x_train + b\n",
    "    \n",
    "    # cost gradient 계산\n",
    "    cost = torch.mean((hypothesis - y_train) ** 2)\n",
    "    \n",
    "    print('Epoch {:4d}/{}   Cost : {:.6f}'. format(epoch, epochs, cost.item()))\n",
    "    \n",
    "    # cost로 H(x) 개선\n",
    "    optimizer.zero_grad()\n",
    "    cost.backward()\n",
    "    optimizer.step()"
   ]
  },
  {
   "cell_type": "code",
   "execution_count": 53,
   "metadata": {},
   "outputs": [
    {
     "data": {
      "text/plain": [
       "tensor([2.9970, 2.9970, 2.9970], requires_grad=True)"
      ]
     },
     "execution_count": 53,
     "metadata": {},
     "output_type": "execute_result"
    }
   ],
   "source": [
    "W"
   ]
  }
 ],
 "metadata": {
  "kernelspec": {
   "display_name": "Python 3 (ipykernel)",
   "language": "python",
   "name": "python3"
  },
  "language_info": {
   "codemirror_mode": {
    "name": "ipython",
    "version": 3
   },
   "file_extension": ".py",
   "mimetype": "text/x-python",
   "name": "python",
   "nbconvert_exporter": "python",
   "pygments_lexer": "ipython3",
   "version": "3.9.13"
  }
 },
 "nbformat": 4,
 "nbformat_minor": 2
}
