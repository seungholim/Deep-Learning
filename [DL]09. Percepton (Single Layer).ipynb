{
 "cells": [
  {
   "cell_type": "markdown",
   "metadata": {},
   "source": [
    "# Perceptron (Single Layer Perceptron)"
   ]
  },
  {
   "cell_type": "markdown",
   "metadata": {},
   "source": [
    "perceptron 은 인공신경망의 종류중 하나입니다.\n",
    "\n",
    "Neuron을 본따 만듦"
   ]
  },
  {
   "cell_type": "markdown",
   "metadata": {},
   "source": [
    "초창기 Perceptron은 Linear classifier 를 위해 만들어진 모델입니다. \n",
    "\n",
    "어떤 두가지 클래스가 있을때 그것을 linear하게 나눌수 있는 분류기를 말합니다. \n",
    "\n",
    "(실제로는 AND, OR 문제를 해결하기 위해만들어졌다고 합니다.)"
   ]
  },
  {
   "cell_type": "code",
   "execution_count": 5,
   "metadata": {
    "scrolled": true
   },
   "outputs": [
    {
     "name": "stdout",
     "output_type": "stream",
     "text": [
      "0 0\n",
      "0 1\n",
      "0 1\n",
      "1 1\n"
     ]
    }
   ],
   "source": [
    "# AND와 OR\n",
    "print(0 and 0, 0 or 0)\n",
    "print(0 and 1, 1 or 1)\n",
    "print(1 and 0, 1 or 0)\n",
    "print(1 and 1 ,1 or 1)"
   ]
  },
  {
   "cell_type": "markdown",
   "metadata": {},
   "source": [
    "위 and or 문제는 perceptron 으로 해결이 쉽게 가능하지만,  \n",
    "minski 는 한개의 레이어 구조를 가지고 있는 Perceptron 구조로는 XOR문제는 해결할 수 없다라는 것을 증명 하였습니다.  \n",
    "그래서 Multilayer를 이용해야지만 이 것을 해결할 수 있다 하지만 Multilayer는 각층의 W들을 학습시킬수 없다라고 말하며, 인공신경망의 암흑기가 옵니다.  \n",
    "\n",
    "![XOR형태](http://www.saedsayad.com/images/Perceptron_XOR.png)\n",
    "딱봐도 Linear한 한직선으로는 이것을 분류할 수 없어 보입니다.\n",
    "\n",
    "\n",
    "하지만 우리모두가 알고 있듯이 Backpropagtaion을 사용하면서, 지금은 문제가 해결 되었습니다. \n",
    "\n",
    "![](https://www.cse.unsw.edu.au/~cs9417ml/MLP2/BPNeuralNetwork.jpg)\n",
    "\n",
    "\n"
   ]
  },
  {
   "cell_type": "markdown",
   "metadata": {},
   "source": [
    "# XOR 코드 구현"
   ]
  },
  {
   "cell_type": "code",
   "execution_count": 2,
   "metadata": {},
   "outputs": [],
   "source": [
    "import torch"
   ]
  },
  {
   "cell_type": "code",
   "execution_count": 3,
   "metadata": {},
   "outputs": [],
   "source": [
    "device = 'cuda' if torch.cuda.is_available() else 'cpu'\n",
    "\n",
    "# for reproducibility\n",
    "torch.manual_seed(777)\n",
    "if device == 'cuda':\n",
    "    torch.cuda.manual_seed_all(777)"
   ]
  },
  {
   "cell_type": "code",
   "execution_count": 4,
   "metadata": {},
   "outputs": [
    {
     "name": "stdout",
     "output_type": "stream",
     "text": [
      "0 0.7273974418640137\n",
      "100 0.6931475400924683\n",
      "200 0.6931471824645996\n",
      "300 0.6931471824645996\n",
      "400 0.6931471824645996\n",
      "500 0.6931471824645996\n",
      "600 0.6931471824645996\n",
      "700 0.6931471824645996\n",
      "800 0.6931471824645996\n",
      "900 0.6931471824645996\n",
      "1000 0.6931471824645996\n"
     ]
    }
   ],
   "source": [
    "X = torch.FloatTensor([[0,0],[0,1],[1,0],[1,1]]).to(device)\n",
    "Y = torch.FloatTensor([[0],[1],[1],[0]]).to(device)\n",
    "\n",
    "# nn Layer\n",
    "linear = torch.nn.Linear(2,1, bias=True) \n",
    "# Perceptron 같은 경우 한개의 Fully Connected Layer를 갖는구조\n",
    "# 일단 처음엔 Single Layer\n",
    "sigmoid = torch.nn.Sigmoid()\n",
    "model = torch.nn.Sequential(linear, sigmoid).to(device)\n",
    "\n",
    "# define cost/loss $ optimizer\n",
    "criterion = torch.nn.BCELoss().to(device) # X값이 0,1과 1을 분리하는 Binary Classification Task 이므로 Loss로는 Binary Cross Entropy Loss를 사용합니다.\n",
    "optimizer = torch.optim.SGD(model.parameters(), lr=1)\n",
    "# Optimizer로는 이전에도 이용하는 statistic gradient descent 를 사용\n",
    "\n",
    "for step in range(1001) :\n",
    "    optimizer.zero_grad()\n",
    "    hypothesis = model(X)\n",
    "    \n",
    "    # cost/loss function\n",
    "    cost = criterion(hypothesis, Y)\n",
    "    # model이 X,Y 게이트와 같은 값이 나올수 있도록 학습\n",
    "    cost.backward()\n",
    "    optimizer.step()\n",
    "    if step % 100 == 0 :\n",
    "        print(step, cost.item())"
   ]
  },
  {
   "cell_type": "code",
   "execution_count": 5,
   "metadata": {},
   "outputs": [
    {
     "name": "stdout",
     "output_type": "stream",
     "text": [
      "\n",
      "Hypothesis:  [[0.5]\n",
      " [0.5]\n",
      " [0.5]\n",
      " [0.5]] \n",
      "Correct:  [[0.]\n",
      " [0.]\n",
      " [0.]\n",
      " [0.]] \n",
      "Accuracy:  0.5\n"
     ]
    }
   ],
   "source": [
    "# Accuracy computation\n",
    "# True if hypothesis>0.5 else False\n",
    "with torch.no_grad():\n",
    "    hypothesis = model(X)\n",
    "    predicted = (hypothesis > 0.5).float()\n",
    "    accuracy = (predicted == Y).float().mean()\n",
    "    print('\\nHypothesis: ', hypothesis.detach().cpu().numpy(), '\\nCorrect: ', predicted.detach().cpu().numpy(), '\\nAccuracy: ', accuracy.item())"
   ]
  },
  {
   "cell_type": "markdown",
   "metadata": {},
   "source": [
    "200 번째 step부턴 계속 같은 cost를 뱉어내는것을 볼수 있습니다.\n",
    "이걸 해결하기 위해 우리는 Multi Layer Peceptron을 배울 예정입니다."
   ]
  }
 ],
 "metadata": {
  "kernelspec": {
   "display_name": "Python 3 (ipykernel)",
   "language": "python",
   "name": "python3"
  },
  "language_info": {
   "codemirror_mode": {
    "name": "ipython",
    "version": 3
   },
   "file_extension": ".py",
   "mimetype": "text/x-python",
   "name": "python",
   "nbconvert_exporter": "python",
   "pygments_lexer": "ipython3",
   "version": "3.9.13"
  }
 },
 "nbformat": 4,
 "nbformat_minor": 2
}
