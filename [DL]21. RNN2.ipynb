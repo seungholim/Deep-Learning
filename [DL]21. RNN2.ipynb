{
 "cells": [
  {
   "cell_type": "markdown",
   "metadata": {},
   "source": [
    "# RNN - hihello / charseq\n",
    "\n",
    "\n",
    "- 'Hihello' problem\n",
    "- Data Setting\n",
    "    - One hot encoding\n",
    "- Cross entropy loss\n",
    "- Code run through"
   ]
  },
  {
   "cell_type": "markdown",
   "metadata": {},
   "source": [
    "### 'hihello' problem\n",
    "- h i h e l l o 문자열을 예측하는 문제\n",
    "- we will predict the next character\n",
    "- how can we represent character in pytorch"
   ]
  },
  {
   "cell_type": "markdown",
   "metadata": {},
   "source": [
    "### cross entropy loss\n",
    "\n",
    "카테고리컬한 output을 예측하는데 많이 쓰는 loss입니다.  \n",
    "일반적으로 카테고리컬한 output을 만드는  모델에서는 output값들을 softmax를 취해서 각 확률로 표현합니다. \n",
    "그후 정답과 비교하여 output값을 늘리도록 만들어주는것이 cross entorpy loss 의 역할입니다.    \n",
    "\n",
    "아래 코드로에서 좀더 알아보겠습니다.  "
   ]
  },
  {
   "cell_type": "code",
   "execution_count": 3,
   "metadata": {},
   "outputs": [
    {
     "data": {
      "text/plain": [
       "'\\n# loss & optimizer setting\\ncriterion = torch.nn.CrossEntropyLoss()\\n\\nloss = criterion(outpus.view(-1,input_size), Y.view(-1))\\n# 첫번째 파라미터에서는 모델의 아웃풋을 줘야하고\\n# 두번째 파라미터에는 모델의 정답 lable 값을 줘야합니다. \\n'"
      ]
     },
     "execution_count": 3,
     "metadata": {},
     "output_type": "execute_result"
    }
   ],
   "source": [
    "\"\"\"\n",
    "# loss & optimizer setting\n",
    "criterion = torch.nn.CrossEntropyLoss()\n",
    "\n",
    "loss = criterion(outpus.view(-1,input_size), Y.view(-1))\n",
    "# 첫번째 파라미터에서는 모델의 아웃풋을 줘야하고\n",
    "# 두번째 파라미터에는 모델의 정답 lable 값을 줘야합니다. \n",
    "\"\"\""
   ]
  },
  {
   "cell_type": "code",
   "execution_count": 33,
   "metadata": {},
   "outputs": [],
   "source": [
    "import torch\n",
    "import torch.nn\n",
    "import torch.optim as optim\n",
    "import numpy as np"
   ]
  },
  {
   "cell_type": "code",
   "execution_count": 34,
   "metadata": {},
   "outputs": [],
   "source": [
    "char_set = ['h','i','e','l','o']\n",
    "# hyper parameters\n",
    "\n",
    "input_size = len(char_set)\n",
    "hidden_size = len(char_set)\n",
    "learning_rate = 0.1\n",
    "\n",
    "# data setting\n",
    "x_data = [[0,1,0,2,3,3]]\n",
    "x_one_hot = [[1,0,0,0,0],\n",
    "            [0,1,0,0,0],\n",
    "            [1,0,0,0,0],\n",
    "            [0,0,1,0,0],\n",
    "            [0,0,0,1,0],\n",
    "            [0,0,0,1,0]]\n",
    "y_data = [[1,0,2,3,3,4]]"
   ]
  },
  {
   "cell_type": "code",
   "execution_count": 35,
   "metadata": {},
   "outputs": [],
   "source": [
    "# transform as torch tensor variable\n",
    "X = torch.FloatTensor(x_one_hot)\n",
    "Y = torch.LongTensor(y_data)"
   ]
  },
  {
   "cell_type": "markdown",
   "metadata": {},
   "source": [
    "### Code run through (charseq)"
   ]
  },
  {
   "cell_type": "code",
   "execution_count": 36,
   "metadata": {},
   "outputs": [],
   "source": [
    "sample = \"if you want you\""
   ]
  },
  {
   "cell_type": "code",
   "execution_count": 37,
   "metadata": {},
   "outputs": [
    {
     "name": "stdout",
     "output_type": "stream",
     "text": [
      "['t', 'u', 'i', 'f', 'w', 'o', 'n', 'a', 'y', ' ']\n",
      "{'t': 0, 'u': 1, 'i': 2, 'f': 3, 'w': 4, 'o': 5, 'n': 6, 'a': 7, 'y': 8, ' ': 9}\n"
     ]
    }
   ],
   "source": [
    "# make dictionary\n",
    "char_set = list(set(sample))\n",
    "char_dic = {c:i for i,c in enumerate(char_set)}\n",
    "print(char_set)\n",
    "print(char_dic)"
   ]
  },
  {
   "cell_type": "code",
   "execution_count": 38,
   "metadata": {},
   "outputs": [],
   "source": [
    "# hyper parameters\n",
    "dic_size = len(char_dic)\n",
    "hidden_size = len(char_dic)\n",
    "learning_rate = 0.1"
   ]
  },
  {
   "cell_type": "code",
   "execution_count": 39,
   "metadata": {},
   "outputs": [
    {
     "name": "stdout",
     "output_type": "stream",
     "text": [
      "[2, 3, 9, 8, 5, 1, 9, 4, 7, 6, 0, 9, 8, 5, 1]\n"
     ]
    }
   ],
   "source": [
    "# data setting\n",
    "sample_idx = [char_dic[c] for c in sample]\n",
    "print(sample_idx)"
   ]
  },
  {
   "cell_type": "code",
   "execution_count": 40,
   "metadata": {},
   "outputs": [],
   "source": [
    "x_data = [sample_idx[:-1]]\n",
    "x_one_hot = [np.eye(dic_size)[x] for x in x_data]\n",
    "# np.eye 는 identitlmatrix 를 만들어주는 함수\n",
    "# 원핫 인코딩을 만들때 굉장히 유리한것 같다. \n",
    "y_data = [sample_idx[1:]]"
   ]
  },
  {
   "cell_type": "code",
   "execution_count": 41,
   "metadata": {},
   "outputs": [],
   "source": [
    "# transform as torch tensor variable\n",
    "X = torch.FloatTensor(x_one_hot)\n",
    "Y = torch.LongTensor(y_data)"
   ]
  },
  {
   "cell_type": "code",
   "execution_count": 42,
   "metadata": {},
   "outputs": [
    {
     "data": {
      "text/plain": [
       "[array([[0., 0., 1., 0., 0., 0., 0., 0., 0., 0.],\n",
       "        [0., 0., 0., 1., 0., 0., 0., 0., 0., 0.],\n",
       "        [0., 0., 0., 0., 0., 0., 0., 0., 0., 1.],\n",
       "        [0., 0., 0., 0., 0., 0., 0., 0., 1., 0.],\n",
       "        [0., 0., 0., 0., 0., 1., 0., 0., 0., 0.],\n",
       "        [0., 1., 0., 0., 0., 0., 0., 0., 0., 0.],\n",
       "        [0., 0., 0., 0., 0., 0., 0., 0., 0., 1.],\n",
       "        [0., 0., 0., 0., 1., 0., 0., 0., 0., 0.],\n",
       "        [0., 0., 0., 0., 0., 0., 0., 1., 0., 0.],\n",
       "        [0., 0., 0., 0., 0., 0., 1., 0., 0., 0.],\n",
       "        [1., 0., 0., 0., 0., 0., 0., 0., 0., 0.],\n",
       "        [0., 0., 0., 0., 0., 0., 0., 0., 0., 1.],\n",
       "        [0., 0., 0., 0., 0., 0., 0., 0., 1., 0.],\n",
       "        [0., 0., 0., 0., 0., 1., 0., 0., 0., 0.]])]"
      ]
     },
     "execution_count": 42,
     "metadata": {},
     "output_type": "execute_result"
    }
   ],
   "source": [
    "x_one_hot"
   ]
  },
  {
   "cell_type": "markdown",
   "metadata": {},
   "source": [
    "### Code run through"
   ]
  },
  {
   "cell_type": "code",
   "execution_count": 46,
   "metadata": {},
   "outputs": [],
   "source": [
    "# declare RNN\n",
    "rnn = torch.nn.RNN(dic_size, hidden_size, batch_first=True)\n",
    "# batch_first = first를 하면 batch_dimension이 가장 앞으로 오게 됩니다.\n",
    "# batch_first gurantees the order of output = (Batch, S, f)\n",
    "\n",
    "# loss & optimizer setting\n",
    "criterion = torch.nn.CrossEntropyLoss()\n",
    "optimizer = optim.Adam(rnn.parameters(), learning_rate)"
   ]
  },
  {
   "cell_type": "code",
   "execution_count": 48,
   "metadata": {},
   "outputs": [
    {
     "name": "stdout",
     "output_type": "stream",
     "text": [
      "0 loss:  2.0641868114471436 prediction:  [[3 0 5 9 6 9 4 8 6 9 6 4 6 5]] true Y:  [[3, 9, 8, 5, 1, 9, 4, 7, 6, 0, 9, 8, 5, 1]] prediction str:  fto n wyn nwno\n",
      "1 loss:  1.7525980472564697 prediction:  [[5 9 8 8 1 9 4 8 6 0 9 8 8 1]] true Y:  [[3, 9, 8, 5, 1, 9, 4, 7, 6, 0, 9, 8, 5, 1]] prediction str:  o yyu wynt yyu\n",
      "2 loss:  1.5522547960281372 prediction:  [[5 9 8 5 1 9 4 7 5 0 9 8 5 1]] true Y:  [[3, 9, 8, 5, 1, 9, 4, 7, 6, 0, 9, 8, 5, 1]] prediction str:  o you waot you\n",
      "3 loss:  1.4330037832260132 prediction:  [[5 9 8 5 1 9 4 7 5 0 9 8 5 1]] true Y:  [[3, 9, 8, 5, 1, 9, 4, 7, 6, 0, 9, 8, 5, 1]] prediction str:  o you waot you\n",
      "4 loss:  1.3383539915084839 prediction:  [[5 9 8 5 1 9 4 7 5 0 9 8 5 1]] true Y:  [[3, 9, 8, 5, 1, 9, 4, 7, 6, 0, 9, 8, 5, 1]] prediction str:  o you waot you\n",
      "5 loss:  1.2612215280532837 prediction:  [[3 9 8 5 1 9 4 7 5 0 9 8 5 1]] true Y:  [[3, 9, 8, 5, 1, 9, 4, 7, 6, 0, 9, 8, 5, 1]] prediction str:  f you waot you\n",
      "6 loss:  1.1957882642745972 prediction:  [[3 9 8 5 1 9 4 7 5 0 9 8 5 1]] true Y:  [[3, 9, 8, 5, 1, 9, 4, 7, 6, 0, 9, 8, 5, 1]] prediction str:  f you waot you\n",
      "7 loss:  1.1591377258300781 prediction:  [[3 9 8 5 1 9 4 7 5 0 9 8 5 1]] true Y:  [[3, 9, 8, 5, 1, 9, 4, 7, 6, 0, 9, 8, 5, 1]] prediction str:  f you waot you\n",
      "8 loss:  1.1152766942977905 prediction:  [[3 9 8 5 1 9 4 7 6 0 9 8 5 1]] true Y:  [[3, 9, 8, 5, 1, 9, 4, 7, 6, 0, 9, 8, 5, 1]] prediction str:  f you want you\n",
      "9 loss:  1.1040624380111694 prediction:  [[3 9 8 5 1 9 4 7 6 0 9 8 5 1]] true Y:  [[3, 9, 8, 5, 1, 9, 4, 7, 6, 0, 9, 8, 5, 1]] prediction str:  f you want you\n",
      "10 loss:  1.070432424545288 prediction:  [[3 9 8 5 1 9 4 7 6 0 9 8 5 1]] true Y:  [[3, 9, 8, 5, 1, 9, 4, 7, 6, 0, 9, 8, 5, 1]] prediction str:  f you want you\n",
      "11 loss:  1.0550529956817627 prediction:  [[3 9 8 5 1 9 4 7 6 0 9 8 5 1]] true Y:  [[3, 9, 8, 5, 1, 9, 4, 7, 6, 0, 9, 8, 5, 1]] prediction str:  f you want you\n",
      "12 loss:  1.0371477603912354 prediction:  [[3 9 8 5 1 9 4 7 6 0 9 8 5 1]] true Y:  [[3, 9, 8, 5, 1, 9, 4, 7, 6, 0, 9, 8, 5, 1]] prediction str:  f you want you\n",
      "13 loss:  1.0138788223266602 prediction:  [[3 9 8 5 1 9 4 7 6 0 9 8 5 1]] true Y:  [[3, 9, 8, 5, 1, 9, 4, 7, 6, 0, 9, 8, 5, 1]] prediction str:  f you want you\n",
      "14 loss:  1.002224087715149 prediction:  [[3 9 8 5 1 9 4 7 6 0 9 8 5 1]] true Y:  [[3, 9, 8, 5, 1, 9, 4, 7, 6, 0, 9, 8, 5, 1]] prediction str:  f you want you\n",
      "15 loss:  0.9860066175460815 prediction:  [[3 9 8 5 1 9 4 7 6 0 9 8 5 1]] true Y:  [[3, 9, 8, 5, 1, 9, 4, 7, 6, 0, 9, 8, 5, 1]] prediction str:  f you want you\n",
      "16 loss:  0.9748748540878296 prediction:  [[3 9 8 5 1 9 4 7 6 0 9 8 5 1]] true Y:  [[3, 9, 8, 5, 1, 9, 4, 7, 6, 0, 9, 8, 5, 1]] prediction str:  f you want you\n",
      "17 loss:  0.960292637348175 prediction:  [[3 9 8 5 1 9 4 7 6 0 9 8 5 1]] true Y:  [[3, 9, 8, 5, 1, 9, 4, 7, 6, 0, 9, 8, 5, 1]] prediction str:  f you want you\n",
      "18 loss:  0.9517298936843872 prediction:  [[3 9 8 5 1 9 4 7 6 0 9 8 5 1]] true Y:  [[3, 9, 8, 5, 1, 9, 4, 7, 6, 0, 9, 8, 5, 1]] prediction str:  f you want you\n",
      "19 loss:  0.9436400532722473 prediction:  [[3 9 8 5 1 9 4 7 6 0 9 8 5 1]] true Y:  [[3, 9, 8, 5, 1, 9, 4, 7, 6, 0, 9, 8, 5, 1]] prediction str:  f you want you\n",
      "20 loss:  0.9318841099739075 prediction:  [[3 9 8 5 1 9 4 7 6 0 9 8 5 1]] true Y:  [[3, 9, 8, 5, 1, 9, 4, 7, 6, 0, 9, 8, 5, 1]] prediction str:  f you want you\n",
      "21 loss:  0.928377091884613 prediction:  [[3 9 8 5 1 9 4 7 6 0 9 8 5 1]] true Y:  [[3, 9, 8, 5, 1, 9, 4, 7, 6, 0, 9, 8, 5, 1]] prediction str:  f you want you\n",
      "22 loss:  0.9181576371192932 prediction:  [[3 9 8 5 1 9 4 7 6 0 9 8 5 1]] true Y:  [[3, 9, 8, 5, 1, 9, 4, 7, 6, 0, 9, 8, 5, 1]] prediction str:  f you want you\n",
      "23 loss:  0.9107141494750977 prediction:  [[3 9 8 5 1 9 4 7 6 0 9 8 5 1]] true Y:  [[3, 9, 8, 5, 1, 9, 4, 7, 6, 0, 9, 8, 5, 1]] prediction str:  f you want you\n",
      "24 loss:  0.9037218689918518 prediction:  [[3 9 8 5 1 9 4 7 6 0 9 8 5 1]] true Y:  [[3, 9, 8, 5, 1, 9, 4, 7, 6, 0, 9, 8, 5, 1]] prediction str:  f you want you\n",
      "25 loss:  0.892898678779602 prediction:  [[3 9 8 5 1 9 4 7 6 0 9 8 5 1]] true Y:  [[3, 9, 8, 5, 1, 9, 4, 7, 6, 0, 9, 8, 5, 1]] prediction str:  f you want you\n",
      "26 loss:  0.8892531991004944 prediction:  [[3 9 8 5 1 9 4 7 6 0 9 8 5 1]] true Y:  [[3, 9, 8, 5, 1, 9, 4, 7, 6, 0, 9, 8, 5, 1]] prediction str:  f you want you\n",
      "27 loss:  0.880574107170105 prediction:  [[3 9 8 5 1 9 4 7 6 0 9 8 5 1]] true Y:  [[3, 9, 8, 5, 1, 9, 4, 7, 6, 0, 9, 8, 5, 1]] prediction str:  f you want you\n",
      "28 loss:  0.876849353313446 prediction:  [[3 9 8 5 1 9 4 7 6 0 9 8 5 1]] true Y:  [[3, 9, 8, 5, 1, 9, 4, 7, 6, 0, 9, 8, 5, 1]] prediction str:  f you want you\n",
      "29 loss:  0.8695806264877319 prediction:  [[3 9 8 5 1 9 4 7 6 0 9 8 5 1]] true Y:  [[3, 9, 8, 5, 1, 9, 4, 7, 6, 0, 9, 8, 5, 1]] prediction str:  f you want you\n",
      "30 loss:  0.8645340800285339 prediction:  [[3 9 8 5 1 9 4 7 6 0 9 8 5 1]] true Y:  [[3, 9, 8, 5, 1, 9, 4, 7, 6, 0, 9, 8, 5, 1]] prediction str:  f you want you\n",
      "31 loss:  0.8615574836730957 prediction:  [[3 9 8 5 1 9 4 7 6 0 9 8 5 1]] true Y:  [[3, 9, 8, 5, 1, 9, 4, 7, 6, 0, 9, 8, 5, 1]] prediction str:  f you want you\n",
      "32 loss:  0.8569310307502747 prediction:  [[3 9 8 5 1 9 4 7 6 0 9 8 5 1]] true Y:  [[3, 9, 8, 5, 1, 9, 4, 7, 6, 0, 9, 8, 5, 1]] prediction str:  f you want you\n",
      "33 loss:  0.8532571196556091 prediction:  [[3 9 8 5 1 9 4 7 6 0 9 8 5 1]] true Y:  [[3, 9, 8, 5, 1, 9, 4, 7, 6, 0, 9, 8, 5, 1]] prediction str:  f you want you\n",
      "34 loss:  0.850080132484436 prediction:  [[3 9 8 5 1 9 4 7 6 0 9 8 5 1]] true Y:  [[3, 9, 8, 5, 1, 9, 4, 7, 6, 0, 9, 8, 5, 1]] prediction str:  f you want you\n",
      "35 loss:  0.8465957045555115 prediction:  [[3 9 8 5 1 9 4 7 6 0 9 8 5 1]] true Y:  [[3, 9, 8, 5, 1, 9, 4, 7, 6, 0, 9, 8, 5, 1]] prediction str:  f you want you\n",
      "36 loss:  0.8435346484184265 prediction:  [[3 9 8 5 1 9 4 7 6 0 9 8 5 1]] true Y:  [[3, 9, 8, 5, 1, 9, 4, 7, 6, 0, 9, 8, 5, 1]] prediction str:  f you want you\n",
      "37 loss:  0.841105043888092 prediction:  [[3 9 8 5 1 9 4 7 6 0 9 8 5 1]] true Y:  [[3, 9, 8, 5, 1, 9, 4, 7, 6, 0, 9, 8, 5, 1]] prediction str:  f you want you\n",
      "38 loss:  0.8388145565986633 prediction:  [[3 9 8 5 1 9 4 7 6 0 9 8 5 1]] true Y:  [[3, 9, 8, 5, 1, 9, 4, 7, 6, 0, 9, 8, 5, 1]] prediction str:  f you want you\n",
      "39 loss:  0.836593508720398 prediction:  [[3 9 8 5 1 9 4 7 6 0 9 8 5 1]] true Y:  [[3, 9, 8, 5, 1, 9, 4, 7, 6, 0, 9, 8, 5, 1]] prediction str:  f you want you\n",
      "40 loss:  0.8347601890563965 prediction:  [[3 9 8 5 1 9 4 7 6 0 9 8 5 1]] true Y:  [[3, 9, 8, 5, 1, 9, 4, 7, 6, 0, 9, 8, 5, 1]] prediction str:  f you want you\n",
      "41 loss:  0.8331699371337891 prediction:  [[3 9 8 5 1 9 4 7 6 0 9 8 5 1]] true Y:  [[3, 9, 8, 5, 1, 9, 4, 7, 6, 0, 9, 8, 5, 1]] prediction str:  f you want you\n",
      "42 loss:  0.8315821886062622 prediction:  [[3 9 8 5 1 9 4 7 6 0 9 8 5 1]] true Y:  [[3, 9, 8, 5, 1, 9, 4, 7, 6, 0, 9, 8, 5, 1]] prediction str:  f you want you\n",
      "43 loss:  0.8300856947898865 prediction:  [[3 9 8 5 1 9 4 7 6 0 9 8 5 1]] true Y:  [[3, 9, 8, 5, 1, 9, 4, 7, 6, 0, 9, 8, 5, 1]] prediction str:  f you want you\n",
      "44 loss:  0.8289349675178528 prediction:  [[3 9 8 5 1 9 4 7 6 0 9 8 5 1]] true Y:  [[3, 9, 8, 5, 1, 9, 4, 7, 6, 0, 9, 8, 5, 1]] prediction str:  f you want you\n",
      "45 loss:  0.8280839323997498 prediction:  [[3 9 8 5 1 9 4 7 6 0 9 8 5 1]] true Y:  [[3, 9, 8, 5, 1, 9, 4, 7, 6, 0, 9, 8, 5, 1]] prediction str:  f you want you\n",
      "46 loss:  0.8271182179450989 prediction:  [[3 9 8 5 1 9 4 7 6 0 9 8 5 1]] true Y:  [[3, 9, 8, 5, 1, 9, 4, 7, 6, 0, 9, 8, 5, 1]] prediction str:  f you want you\n",
      "47 loss:  0.8260465264320374 prediction:  [[3 9 8 5 1 9 4 7 6 0 9 8 5 1]] true Y:  [[3, 9, 8, 5, 1, 9, 4, 7, 6, 0, 9, 8, 5, 1]] prediction str:  f you want you\n",
      "48 loss:  0.8251840472221375 prediction:  [[3 9 8 5 1 9 4 7 6 0 9 8 5 1]] true Y:  [[3, 9, 8, 5, 1, 9, 4, 7, 6, 0, 9, 8, 5, 1]] prediction str:  f you want you\n",
      "49 loss:  0.8244732022285461 prediction:  [[3 9 8 5 1 9 4 7 6 0 9 8 5 1]] true Y:  [[3, 9, 8, 5, 1, 9, 4, 7, 6, 0, 9, 8, 5, 1]] prediction str:  f you want you\n",
      "50 loss:  0.8237448334693909 prediction:  [[3 9 8 5 1 9 4 7 6 0 9 8 5 1]] true Y:  [[3, 9, 8, 5, 1, 9, 4, 7, 6, 0, 9, 8, 5, 1]] prediction str:  f you want you\n",
      "51 loss:  0.8230361938476562 prediction:  [[3 9 8 5 1 9 4 7 6 0 9 8 5 1]] true Y:  [[3, 9, 8, 5, 1, 9, 4, 7, 6, 0, 9, 8, 5, 1]] prediction str:  f you want you\n",
      "52 loss:  0.8224705457687378 prediction:  [[3 9 8 5 1 9 4 7 6 0 9 8 5 1]] true Y:  [[3, 9, 8, 5, 1, 9, 4, 7, 6, 0, 9, 8, 5, 1]] prediction str:  f you want you\n",
      "53 loss:  0.8219624161720276 prediction:  [[3 9 8 5 1 9 4 7 6 0 9 8 5 1]] true Y:  [[3, 9, 8, 5, 1, 9, 4, 7, 6, 0, 9, 8, 5, 1]] prediction str:  f you want you\n",
      "54 loss:  0.8213645219802856 prediction:  [[3 9 8 5 1 9 4 7 6 0 9 8 5 1]] true Y:  [[3, 9, 8, 5, 1, 9, 4, 7, 6, 0, 9, 8, 5, 1]] prediction str:  f you want you\n",
      "55 loss:  0.8208103179931641 prediction:  [[3 9 8 5 1 9 4 7 6 0 9 8 5 1]] true Y:  [[3, 9, 8, 5, 1, 9, 4, 7, 6, 0, 9, 8, 5, 1]] prediction str:  f you want you\n",
      "56 loss:  0.8203762769699097 prediction:  [[3 9 8 5 1 9 4 7 6 0 9 8 5 1]] true Y:  [[3, 9, 8, 5, 1, 9, 4, 7, 6, 0, 9, 8, 5, 1]] prediction str:  f you want you\n",
      "57 loss:  0.8199520707130432 prediction:  [[3 9 8 5 1 9 4 7 6 0 9 8 5 1]] true Y:  [[3, 9, 8, 5, 1, 9, 4, 7, 6, 0, 9, 8, 5, 1]] prediction str:  f you want you\n",
      "58 loss:  0.8195043802261353 prediction:  [[3 9 8 5 1 9 4 7 6 0 9 8 5 1]] true Y:  [[3, 9, 8, 5, 1, 9, 4, 7, 6, 0, 9, 8, 5, 1]] prediction str:  f you want you\n",
      "59 loss:  0.819119393825531 prediction:  [[3 9 8 5 1 9 4 7 6 0 9 8 5 1]] true Y:  [[3, 9, 8, 5, 1, 9, 4, 7, 6, 0, 9, 8, 5, 1]] prediction str:  f you want you\n",
      "60 loss:  0.8187932968139648 prediction:  [[3 9 8 5 1 9 4 7 6 0 9 8 5 1]] true Y:  [[3, 9, 8, 5, 1, 9, 4, 7, 6, 0, 9, 8, 5, 1]] prediction str:  f you want you\n",
      "61 loss:  0.8184238076210022 prediction:  [[3 9 8 5 1 9 4 7 6 0 9 8 5 1]] true Y:  [[3, 9, 8, 5, 1, 9, 4, 7, 6, 0, 9, 8, 5, 1]] prediction str:  f you want you\n",
      "62 loss:  0.818066418170929 prediction:  [[3 9 8 5 1 9 4 7 6 0 9 8 5 1]] true Y:  [[3, 9, 8, 5, 1, 9, 4, 7, 6, 0, 9, 8, 5, 1]] prediction str:  f you want you\n",
      "63 loss:  0.8177704215049744 prediction:  [[3 9 8 5 1 9 4 7 6 0 9 8 5 1]] true Y:  [[3, 9, 8, 5, 1, 9, 4, 7, 6, 0, 9, 8, 5, 1]] prediction str:  f you want you\n",
      "64 loss:  0.8174684643745422 prediction:  [[3 9 8 5 1 9 4 7 6 0 9 8 5 1]] true Y:  [[3, 9, 8, 5, 1, 9, 4, 7, 6, 0, 9, 8, 5, 1]] prediction str:  f you want you\n",
      "65 loss:  0.8171558380126953 prediction:  [[3 9 8 5 1 9 4 7 6 0 9 8 5 1]] true Y:  [[3, 9, 8, 5, 1, 9, 4, 7, 6, 0, 9, 8, 5, 1]] prediction str:  f you want you\n",
      "66 loss:  0.8168913125991821 prediction:  [[3 9 8 5 1 9 4 7 6 0 9 8 5 1]] true Y:  [[3, 9, 8, 5, 1, 9, 4, 7, 6, 0, 9, 8, 5, 1]] prediction str:  f you want you\n",
      "67 loss:  0.8166434168815613 prediction:  [[3 9 8 5 1 9 4 7 6 0 9 8 5 1]] true Y:  [[3, 9, 8, 5, 1, 9, 4, 7, 6, 0, 9, 8, 5, 1]] prediction str:  f you want you\n",
      "68 loss:  0.8163732290267944 prediction:  [[3 9 8 5 1 9 4 7 6 0 9 8 5 1]] true Y:  [[3, 9, 8, 5, 1, 9, 4, 7, 6, 0, 9, 8, 5, 1]] prediction str:  f you want you\n",
      "69 loss:  0.8161308169364929 prediction:  [[3 9 8 5 1 9 4 7 6 0 9 8 5 1]] true Y:  [[3, 9, 8, 5, 1, 9, 4, 7, 6, 0, 9, 8, 5, 1]] prediction str:  f you want you\n",
      "70 loss:  0.8159074783325195 prediction:  [[3 9 8 5 1 9 4 7 6 0 9 8 5 1]] true Y:  [[3, 9, 8, 5, 1, 9, 4, 7, 6, 0, 9, 8, 5, 1]] prediction str:  f you want you\n",
      "71 loss:  0.8156685829162598 prediction:  [[3 9 8 5 1 9 4 7 6 0 9 8 5 1]] true Y:  [[3, 9, 8, 5, 1, 9, 4, 7, 6, 0, 9, 8, 5, 1]] prediction str:  f you want you\n",
      "72 loss:  0.8154422640800476 prediction:  [[3 9 8 5 1 9 4 7 6 0 9 8 5 1]] true Y:  [[3, 9, 8, 5, 1, 9, 4, 7, 6, 0, 9, 8, 5, 1]] prediction str:  f you want you\n",
      "73 loss:  0.8152415156364441 prediction:  [[3 9 8 5 1 9 4 7 6 0 9 8 5 1]] true Y:  [[3, 9, 8, 5, 1, 9, 4, 7, 6, 0, 9, 8, 5, 1]] prediction str:  f you want you\n",
      "74 loss:  0.815031886100769 prediction:  [[3 9 8 5 1 9 4 7 6 0 9 8 5 1]] true Y:  [[3, 9, 8, 5, 1, 9, 4, 7, 6, 0, 9, 8, 5, 1]] prediction str:  f you want you\n",
      "75 loss:  0.81482994556427 prediction:  [[3 9 8 5 1 9 4 7 6 0 9 8 5 1]] true Y:  [[3, 9, 8, 5, 1, 9, 4, 7, 6, 0, 9, 8, 5, 1]] prediction str:  f you want you\n",
      "76 loss:  0.8146486282348633 prediction:  [[3 9 8 5 1 9 4 7 6 0 9 8 5 1]] true Y:  [[3, 9, 8, 5, 1, 9, 4, 7, 6, 0, 9, 8, 5, 1]] prediction str:  f you want you\n",
      "77 loss:  0.814463198184967 prediction:  [[3 9 8 5 1 9 4 7 6 0 9 8 5 1]] true Y:  [[3, 9, 8, 5, 1, 9, 4, 7, 6, 0, 9, 8, 5, 1]] prediction str:  f you want you\n",
      "78 loss:  0.8142794370651245 prediction:  [[3 9 8 5 1 9 4 7 6 0 9 8 5 1]] true Y:  [[3, 9, 8, 5, 1, 9, 4, 7, 6, 0, 9, 8, 5, 1]] prediction str:  f you want you\n",
      "79 loss:  0.8141118884086609 prediction:  [[3 9 8 5 1 9 4 7 6 0 9 8 5 1]] true Y:  [[3, 9, 8, 5, 1, 9, 4, 7, 6, 0, 9, 8, 5, 1]] prediction str:  f you want you\n",
      "80 loss:  0.8139419555664062 prediction:  [[3 9 8 5 1 9 4 7 6 0 9 8 5 1]] true Y:  [[3, 9, 8, 5, 1, 9, 4, 7, 6, 0, 9, 8, 5, 1]] prediction str:  f you want you\n",
      "81 loss:  0.8137732148170471 prediction:  [[3 9 8 5 1 9 4 7 6 0 9 8 5 1]] true Y:  [[3, 9, 8, 5, 1, 9, 4, 7, 6, 0, 9, 8, 5, 1]] prediction str:  f you want you\n",
      "82 loss:  0.8136178255081177 prediction:  [[3 9 8 5 1 9 4 7 6 0 9 8 5 1]] true Y:  [[3, 9, 8, 5, 1, 9, 4, 7, 6, 0, 9, 8, 5, 1]] prediction str:  f you want you\n",
      "83 loss:  0.8134623765945435 prediction:  [[3 9 8 5 1 9 4 7 6 0 9 8 5 1]] true Y:  [[3, 9, 8, 5, 1, 9, 4, 7, 6, 0, 9, 8, 5, 1]] prediction str:  f you want you\n",
      "84 loss:  0.8133087158203125 prediction:  [[3 9 8 5 1 9 4 7 6 0 9 8 5 1]] true Y:  [[3, 9, 8, 5, 1, 9, 4, 7, 6, 0, 9, 8, 5, 1]] prediction str:  f you want you\n",
      "85 loss:  0.8131661415100098 prediction:  [[3 9 8 5 1 9 4 7 6 0 9 8 5 1]] true Y:  [[3, 9, 8, 5, 1, 9, 4, 7, 6, 0, 9, 8, 5, 1]] prediction str:  f you want you\n",
      "86 loss:  0.813023567199707 prediction:  [[3 9 8 5 1 9 4 7 6 0 9 8 5 1]] true Y:  [[3, 9, 8, 5, 1, 9, 4, 7, 6, 0, 9, 8, 5, 1]] prediction str:  f you want you\n",
      "87 loss:  0.8128830790519714 prediction:  [[3 9 8 5 1 9 4 7 6 0 9 8 5 1]] true Y:  [[3, 9, 8, 5, 1, 9, 4, 7, 6, 0, 9, 8, 5, 1]] prediction str:  f you want you\n",
      "88 loss:  0.8127508163452148 prediction:  [[3 9 8 5 1 9 4 7 6 0 9 8 5 1]] true Y:  [[3, 9, 8, 5, 1, 9, 4, 7, 6, 0, 9, 8, 5, 1]] prediction str:  f you want you\n",
      "89 loss:  0.8126183152198792 prediction:  [[3 9 8 5 1 9 4 7 6 0 9 8 5 1]] true Y:  [[3, 9, 8, 5, 1, 9, 4, 7, 6, 0, 9, 8, 5, 1]] prediction str:  f you want you\n",
      "90 loss:  0.8124883770942688 prediction:  [[3 9 8 5 1 9 4 7 6 0 9 8 5 1]] true Y:  [[3, 9, 8, 5, 1, 9, 4, 7, 6, 0, 9, 8, 5, 1]] prediction str:  f you want you\n",
      "91 loss:  0.8123646974563599 prediction:  [[3 9 8 5 1 9 4 7 6 0 9 8 5 1]] true Y:  [[3, 9, 8, 5, 1, 9, 4, 7, 6, 0, 9, 8, 5, 1]] prediction str:  f you want you\n",
      "92 loss:  0.81224125623703 prediction:  [[3 9 8 5 1 9 4 7 6 0 9 8 5 1]] true Y:  [[3, 9, 8, 5, 1, 9, 4, 7, 6, 0, 9, 8, 5, 1]] prediction str:  f you want you\n",
      "93 loss:  0.8121210336685181 prediction:  [[3 9 8 5 1 9 4 7 6 0 9 8 5 1]] true Y:  [[3, 9, 8, 5, 1, 9, 4, 7, 6, 0, 9, 8, 5, 1]] prediction str:  f you want you\n",
      "94 loss:  0.812005877494812 prediction:  [[3 9 8 5 1 9 4 7 6 0 9 8 5 1]] true Y:  [[3, 9, 8, 5, 1, 9, 4, 7, 6, 0, 9, 8, 5, 1]] prediction str:  f you want you\n",
      "95 loss:  0.8118907809257507 prediction:  [[3 9 8 5 1 9 4 7 6 0 9 8 5 1]] true Y:  [[3, 9, 8, 5, 1, 9, 4, 7, 6, 0, 9, 8, 5, 1]] prediction str:  f you want you\n",
      "96 loss:  0.8117792010307312 prediction:  [[3 9 8 5 1 9 4 7 6 0 9 8 5 1]] true Y:  [[3, 9, 8, 5, 1, 9, 4, 7, 6, 0, 9, 8, 5, 1]] prediction str:  f you want you\n",
      "97 loss:  0.811671257019043 prediction:  [[3 9 8 5 1 9 4 7 6 0 9 8 5 1]] true Y:  [[3, 9, 8, 5, 1, 9, 4, 7, 6, 0, 9, 8, 5, 1]] prediction str:  f you want you\n",
      "98 loss:  0.8115634918212891 prediction:  [[3 9 8 5 1 9 4 7 6 0 9 8 5 1]] true Y:  [[3, 9, 8, 5, 1, 9, 4, 7, 6, 0, 9, 8, 5, 1]] prediction str:  f you want you\n",
      "99 loss:  0.8114593625068665 prediction:  [[3 9 8 5 1 9 4 7 6 0 9 8 5 1]] true Y:  [[3, 9, 8, 5, 1, 9, 4, 7, 6, 0, 9, 8, 5, 1]] prediction str:  f you want you\n"
     ]
    }
   ],
   "source": [
    "# start training\n",
    "for i in range(100) :\n",
    "    optimizer.zero_grad()\n",
    "    # 이것을 해줘야 새로운 gradient를 구할수 있습니다. \n",
    "    # 없으면 기존 gradient에 축적이 되는 형식이 됩니다.\n",
    "    \n",
    "\n",
    "    outputs, _status = rnn(X)\n",
    "    loss = criterion(outputs.view(-1,dic_size), Y.view(-1))\n",
    "    loss.backward()\n",
    "    optimizer.step()\n",
    "    \n",
    "    \n",
    "    result = outputs.data.numpy().argmax(axis=2)\n",
    "    result_str = ''.join([char_set[c] for c in np.squeeze(result)])\n",
    "    \n",
    "    print(i,\"loss: \", loss.item(), \"prediction: \", result, \"true Y: \", y_data, \"prediction str: \",result_str )"
   ]
  }
 ],
 "metadata": {
  "kernelspec": {
   "display_name": "Python 3 (ipykernel)",
   "language": "python",
   "name": "python3"
  },
  "language_info": {
   "codemirror_mode": {
    "name": "ipython",
    "version": 3
   },
   "file_extension": ".py",
   "mimetype": "text/x-python",
   "name": "python",
   "nbconvert_exporter": "python",
   "pygments_lexer": "ipython3",
   "version": "3.9.13"
  }
 },
 "nbformat": 4,
 "nbformat_minor": 2
}
