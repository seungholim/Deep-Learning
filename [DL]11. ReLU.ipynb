{
 "cells": [
  {
   "cell_type": "markdown",
   "metadata": {},
   "source": [
    "# ReLU\n",
    "\n",
    "- Problem of Sigmoid\n",
    "- ReLU\n",
    "- Optimizer in PyTorch\n",
    "- Review : MINIST\n",
    "- Code : minist_softmax\n",
    "- Code : mnist_nn"
   ]
  },
  {
   "cell_type": "markdown",
   "metadata": {},
   "source": [
    "### Problem of Sigmoid\n",
    "\n",
    "![](https://miro.medium.com/max/1634/1*XCtAytGsbhRQnu-x7Ynr0Q.png)\n",
    "\n",
    "위 초록색을 벗어난 양끝 구간에서 기울기가 0에 가까운 값을 갖게 되므로   \n",
    "Backpropagation 과정에서 gradient를 앞단으로 전파 시킬때 activation function에서는 gradient를 곱하게 됩니다.\n",
    "이때 아주 작은 값이 곱해지게 되면 뒷단에서 loss로부터 전파되는 gradient가 소멸되게 됩니다.   \n",
    "\n",
    "이런 문제를 vanishing gradient라고 합니다.  \n",
    "\n",
    "![gardient vanishing](https://smartstuartkim.files.wordpress.com/2019/02/vanishinggradient-1.png)"
   ]
  },
  {
   "cell_type": "markdown",
   "metadata": {},
   "source": [
    "### ReLU\n",
    "\n",
    "ReLU는 뭐가 다르길래 gradient vanising 문제를 해결할 수 있다는 거지?\n",
    "\n",
    "__ReLU__\n",
    "\n",
    "f(x) = max(0,x) \n",
    "0보다 작은값은 0 ,  \n",
    "0보다 큰값은 자기자신 을 갖는다.\n",
    "\n",
    "그래서 0보다 작은곳에선 기울기가 0,  \n",
    "0보다 큰곳에선 기울기가 1인 결과를 갖게 됩니다.  \n",
    "\n",
    "하지만 음수의 값에선 약한점을 보여주기도 합니다.  \n",
    "\n",
    "그래서   \n",
    "__x = torch.nn.sigmoid(x)__ 대신  \n",
    "__x = torch.nn.relu(x)__  를 사용하기로 하겠습니다.  \n"
   ]
  },
  {
   "cell_type": "markdown",
   "metadata": {},
   "source": [
    "### Optimizer \n",
    "\n",
    "optimizer는 해를 어떻게 찾아 갈것인지에 대한 방법입니다.  \n",
    "\n",
    "자세히 알아보기전에 아래 그림을 잠시 아래 그림을 참고하도록 하겠습니다. \n",
    "![optim](https://user-images.githubusercontent.com/26568793/57982028-60ca9a00-7a7a-11e9-8f17-2611c1756718.png)"
   ]
  }
 ],
 "metadata": {
  "kernelspec": {
   "display_name": "Python 3 (ipykernel)",
   "language": "python",
   "name": "python3"
  },
  "language_info": {
   "codemirror_mode": {
    "name": "ipython",
    "version": 3
   },
   "file_extension": ".py",
   "mimetype": "text/x-python",
   "name": "python",
   "nbconvert_exporter": "python",
   "pygments_lexer": "ipython3",
   "version": "3.9.13"
  }
 },
 "nbformat": 4,
 "nbformat_minor": 2
}
