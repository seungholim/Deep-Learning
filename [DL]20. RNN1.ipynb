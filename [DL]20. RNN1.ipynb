{
 "cells": [
  {
   "cell_type": "markdown",
   "metadata": {},
   "source": [
    "# RNN basic\n",
    "\n",
    "- RNN in Pytorch\n",
    "- Simple Example\n",
    "    - Input\n",
    "    - Hidden State\n",
    "    - Sequence Length\n",
    "    - Batch Size"
   ]
  },
  {
   "cell_type": "code",
   "execution_count": 1,
   "metadata": {},
   "outputs": [
    {
     "data": {
      "text/plain": [
       "'\\nrnn = torch.nn.RNN(input_size, hidden_size) #많은 네트워크중에 torch.nn.RNN 을 통해 RECURRENT NN을 불러옴\\n\\noutputs, _status = rnn(input_data)\\n# input_data는 3개의 차원을 갖는 텐서로 구성된다. \\n'"
      ]
     },
     "execution_count": 1,
     "metadata": {},
     "output_type": "execute_result"
    }
   ],
   "source": [
    "\"\"\"\n",
    "rnn = torch.nn.RNN(input_size, hidden_size) #많은 네트워크중에 torch.nn.RNN 을 통해 RECURRENT NN을 불러옴\n",
    "\n",
    "outputs, _status = rnn(input_data)\n",
    "# input_data는 3개의 차원을 갖는 텐서로 구성된다. \n",
    "\"\"\""
   ]
  },
  {
   "cell_type": "markdown",
   "metadata": {},
   "source": [
    "위으 코드만으로 RNN을 Pytorch 내에서 실행할 수 있다. "
   ]
  },
  {
   "cell_type": "markdown",
   "metadata": {},
   "source": [
    "### Input\n",
    "\n",
    "\"hello\" 라는 단어를 인코딩 할때 우리는 먼저 이것을 모델이 알수 있도록 벡터화 시켜야 합니다.\n",
    "\n",
    "여기선 1-hot encoding 을 통해  \n",
    "h = [1,0,0,0]    \n",
    "e = [0,1,0,0]  \n",
    "l = [0,0,1,0]  \n",
    "o = [0,0,0,1]  \n",
    "로 벡터화를 하였습니다.  \n",
    "\n",
    "이때 input_size의 크기는 4가 됩니다. (워드 임베딩의 벡터사이즈 여기서는 원핫인코딩이므로 글자크기 4)  \n",
    "  \n",
    "이 input_size값은 미리 셀에 알려줘야 하는 값입니다.    \n",
    "\n",
    "이로써 input_data의 3개의 dimension 중 하나를 알게 되었습니다.  \n",
    "__input_data__.shape = (-,-,input_size)\n"
   ]
  },
  {
   "cell_type": "markdown",
   "metadata": {},
   "source": [
    "### Hidden State\n",
    "\n",
    "hidden state 는 input data가 아닌 outdata에 관련이 있는 내용입니다.  \n",
    "output으로 몇개의 차원을 가진 벡터를 출력할지 결정하는 부분입니다.  \n",
    "\n",
    "예를들어 감정분석중 감정이 3가지라면 hidden_size가 3가지가 되는 경우입니다.   \n",
    "\n",
    "예제에선 2로 하였습니다.  \n",
    "hidden_size = 2   \n",
    "=>  \n",
    "outputs.shape = (-,-,2)"
   ]
  },
  {
   "cell_type": "markdown",
   "metadata": {},
   "source": [
    "### Sequence Length\n",
    "RNN의 특징으로 Sequence data를 받는다에서 나온 Siquence Length dimension 입니다.   \n",
    "\n",
    "sequnece length 를 우리가 보고있는 'hello' 에 적용해 보면  \n",
    "x0 = [1,0,0,0]  \n",
    "x1 = [0,1,0,0]  \n",
    "x2 = [0,0,1,0]  \n",
    "x3 = [1,0,1,0]  \n",
    "x4 = [0,0,0,1]  \n",
    "이므로 sequence Length 는 5가 된다.\n",
    "\n",
    "그러므로 input_data의 dimension을 살펴보면  \n",
    "input_data.shape = (-,5,4) 이 됩니다.  \n",
    "그런데 굳이 모델에 알려주지 않아도 모델이 알아서 진행해줍니다.  \n",
    "\n",
    "output_data의 dimension에도 적용이 됩니다.   \n",
    "output_data.shape = (-,5,2) 가 됩니다.  "
   ]
  },
  {
   "cell_type": "markdown",
   "metadata": {},
   "source": [
    "### Batch Size\n",
    "\n",
    "RNN에서도 batch를 통하여 학습을 합니다.    \n",
    "여러개의 data를 하나의 batch로 묶어 학습이 가능합니다.    \n",
    "[  \n",
    "[h,e,l,l,o],  \n",
    "[e,o,l,l,l],  \n",
    "[l,l,e,e,l]  \n",
    "]  \n",
    "를 하나의 batch로 구성해서 input data를 만들고 그 데이터를 RNN에 입력하는 구조가 됩니다.  \n",
    "\n",
    "이 batch size또한 모델에 알려줄 필요가 없습니다. "
   ]
  },
  {
   "cell_type": "markdown",
   "metadata": {},
   "source": [
    "## Example : RUN"
   ]
  },
  {
   "cell_type": "code",
   "execution_count": 4,
   "metadata": {},
   "outputs": [],
   "source": [
    "import torch\n",
    "import numpy as np\n",
    "\n",
    "# 실제 입력값 넣는 곳\n",
    "input_size = 4\n",
    "hidden_size = 2\n",
    "\n",
    "\n",
    "## inputdata tensor 만드는 과정\n",
    "h = [1,0,0,0]\n",
    "e = [0,1,0,0]\n",
    "l = [0,0,1,0]\n",
    "o = [0,0,0,1]\n",
    "\n",
    "input_data_np = np.array([\n",
    "[h,e,l,l,o],\n",
    "[e,o,l,l,l],\n",
    "[l,l,e,e,l]\n",
    "], dtype=np.float32)\n",
    "\n",
    "# trasnform as torch tensor\n",
    "input_data = torch.Tensor(input_data_np)\n",
    "\n",
    "\n",
    "# 이 두줄이  rnn을 구동하는 코드\n",
    "rnn = torch.nn.RNN(input_size,hidden_size)\n",
    "outputs, _status = rnn(input_data)"
   ]
  },
  {
   "cell_type": "code",
   "execution_count": 7,
   "metadata": {},
   "outputs": [
    {
     "name": "stdout",
     "output_type": "stream",
     "text": [
      "torch.Size([3, 5, 4])\n",
      "torch.Size([3, 5, 2])\n"
     ]
    }
   ],
   "source": [
    "print(input_data.shape)\n",
    "print(outputs.shape)"
   ]
  }
 ],
 "metadata": {
  "kernelspec": {
   "display_name": "Python 3 (ipykernel)",
   "language": "python",
   "name": "python3"
  },
  "language_info": {
   "codemirror_mode": {
    "name": "ipython",
    "version": 3
   },
   "file_extension": ".py",
   "mimetype": "text/x-python",
   "name": "python",
   "nbconvert_exporter": "python",
   "pygments_lexer": "ipython3",
   "version": "3.9.13"
  }
 },
 "nbformat": 4,
 "nbformat_minor": 2
}
